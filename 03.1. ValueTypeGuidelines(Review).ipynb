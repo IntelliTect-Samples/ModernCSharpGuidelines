{
 "cells": [
  {
   "cell_type": "markdown",
   "metadata": {},
   "source": [
    "## Struct Guidelines - Review\n",
    "\n",
    "> ⛔ **DO NOT** provide a parameterless constructor for a struct\n",
    "\n",
    "> ⛔ **DO NOT** define mutable value types\n",
    "\n",
    "> 🔛 **DO** ensure that a state where all instance data is set to zero, false, or null (as appropriate) is valid\n",
    "\n",
    "> 🔛 **DO** implement `IEquatable<T>` on value types"
   ]
  }
 ],
 "metadata": {
  "language_info": {
   "name": "python"
  },
  "orig_nbformat": 4
 },
 "nbformat": 4,
 "nbformat_minor": 2
}
