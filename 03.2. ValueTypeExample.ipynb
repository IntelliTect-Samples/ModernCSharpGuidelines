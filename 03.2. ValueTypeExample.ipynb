{
 "cells": [
  {
   "cell_type": "markdown",
   "metadata": {},
   "source": []
  },
  {
   "cell_type": "code",
   "execution_count": null,
   "metadata": {
    "dotnet_interactive": {
     "language": "csharp"
    },
    "vscode": {
     "languageId": "dotnet-interactive.csharp"
    }
   },
   "outputs": [],
   "source": [
    "#r \"nunit:Microsoft.VisualStudio.TestTools.UnitTesting\"\n",
    "using Microsoft.VisualStudio.TestTools.UnitTesting;\n",
    "\n",
    "public record struct Coordinate\n",
    "{\n",
    "    public double Longitude { get; } = 42;\n",
    "    public double Latitude { get; } = 77;\n",
    "    public Coordinate()\n",
    "    {\n",
    "    }\n",
    "}\n",
    "\n",
    "record class Location (string Name)\n",
    "{\n",
    "    public Coordinate Coordinate { get; set; }\n",
    "}\n",
    "\n",
    "Location location = new (\"Timbuktu\");\n",
    "Assert.AreEqual<double>(0, location.Coordinate.Longitude);\n"
   ]
  }
 ],
 "metadata": {
  "kernelspec": {
   "display_name": ".NET (C#)",
   "language": "C#",
   "name": ".net-csharp"
  },
  "language_info": {
   "file_extension": ".cs",
   "mimetype": "text/x-csharp",
   "name": "C#",
   "pygments_lexer": "csharp",
   "version": "9.0"
  },
  "orig_nbformat": 4
 },
 "nbformat": 4,
 "nbformat_minor": 2
}
