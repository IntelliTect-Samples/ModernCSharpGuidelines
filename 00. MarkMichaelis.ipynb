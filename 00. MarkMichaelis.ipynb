{
 "cells": [
  {
   "cell_type": "markdown",
   "metadata": {},
   "source": [
    "# <p style=\"text-align: center;\">__Essential C# - Modern Coding Guidelines__</p>\n",
    "\n",
    "\n",
    "# <p style=\"text-align: center;\">Mark Michaelis - Chief Nerd at IntelliTect</p>\n",
    "### <p style=\"text-align: center;\">Microsoft Regional Director, Microsoft MVP (25 years)</p>\n",
    "\n",
    "<p style=\"text-align: center;\"><img src=\"https://encrypted-tbn1.gstatic.com/images?q=tbn:ANd9GcSl0J6KBFdEPTHDwSIEWaS5C1StXEstG33ZzgRrHSbhrXGtZj2i\"  height=\"300\"></p>\n",
    "\n",
    "### <p style=\"text-align: center;\">mark@IntelliTect.com | fb.com/MarkMichaelis | @MarkMichaelis</p>"
   ]
  }
 ],
 "metadata": {
  "language_info": {
   "name": "python"
  },
  "orig_nbformat": 4
 },
 "nbformat": 4,
 "nbformat_minor": 2
}
