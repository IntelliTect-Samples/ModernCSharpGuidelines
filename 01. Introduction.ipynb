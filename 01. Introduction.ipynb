{
 "cells": [
  {
   "cell_type": "markdown",
   "metadata": {},
   "source": [
    "# Guideline Prefixes"
   ]
  },
  {
   "cell_type": "markdown",
   "metadata": {},
   "source": [
    "* ## **DO**\n",
    "\n",
    "    A **DO** guideline is one that should always be followed, where only rare exceptionally unusual corner cases for violation.\n",
    "    \n",
    "    For Example:\n",
    "    > 🔛 **DO** wear a helmet when your rock climb.\n",
    "\n",
    "    For Example:\n",
    "    > 🔛 **DO** use a firewall on a gateway.\n",
    "\n",
    "    For Example:\n",
    "    > 🔛 **DO** name custom attribute classes with the suffix \"Attribute.\"\n",
    "\n",
    "    ```csharp\n",
    "    public class NotNullAttribute { }\n",
    "    ```"
   ]
  },
  {
   "cell_type": "markdown",
   "metadata": {},
   "source": [
    "* ## **CONSIDER**\n",
    "\n",
    "    These guidelines should generally be followed unless you fully understand the reasoning behind the guideline and why your circumstances warrant an alternative\n",
    "    approach.\n",
    "\n",
    "    For Example:\n",
    "    > 👍 **CONSIDER** using three anchors when securing a top rope.\n",
    "\n",
    "    For Example:\n",
    "    > 👍 **CONSIDER** turning on the firewall on all workstations.\n",
    "\n",
    "    For Example:\n",
    "    > 👍 **CONSIDER** providing special enum values for commonly used combinations of flags.\n",
    "\n",
    "    ```csharp\n",
    "    [Flags]\n",
    "    enum PermissionFlags : byte\n",
    "    {\n",
    "        None        = 0b0000,\n",
    "        Read        = 0b0001,\n",
    "        Write       = 0b0010,\n",
    "        ReadWrite = Read & Write,\n",
    "    }\n",
    "    ```\n",
    "\n"
   ]
  },
  {
   "cell_type": "markdown",
   "metadata": {},
   "source": [
    "* ## **AVOID**\n",
    "\n",
    "    Avoid guidelines are for approaches that should generally be steered away from but there are known reasons where the avoided approach is viable. By default, follow the guidelines unless you understand the reasoning and can justify why the particular circumstances warrant taking a different approach.\n",
    "\n",
    "    Example (Climbing):\n",
    "    > 👎 **AVOID** putting the rope in the dirt.\n",
    "\n",
    "    Example (Network Security):\n",
    "    > 👎 **AVOID** clicking on links when the source is unverifiable.\n",
    "    \n",
    "    Example (C#):\n",
    "    > 👎 **Avoid** using marker interfaces (interfaces with no members).\n"
   ]
  },
  {
   "cell_type": "markdown",
   "metadata": {},
   "source": [
    "* ## **DO NOT**\n",
    "\n",
    "    Do Not scenarios are to be avoided in all circumstances except for rare corner cases in which there may be an exception. When violating a Do Not guidelines, be sure to document the justification of why the guideline is not followed.\n",
    "\n",
    "    Example (Climbing):\n",
    "    > ⛔ **DO NOT** enter a slot canyon when there is a risk of a flood.\n",
    "\n",
    "    Example (Network Security):\n",
    "    > ⛔ **DO NOT** download files from an untrusted source.\n",
    "\n",
    "    Example (C#):\n",
    "    > ⛔ **DO NOT** give class names a prefix (e.g. \"C\").\n",
    "\n"
   ]
  }
 ],
 "metadata": {
  "language_info": {
   "name": "python"
  },
  "orig_nbformat": 4
 },
 "nbformat": 4,
 "nbformat_minor": 2
}
