{
 "cells": [
  {
   "cell_type": "markdown",
   "metadata": {},
   "source": [
    "## Records Review"
   ]
  },
  {
   "cell_type": "code",
   "execution_count": null,
   "metadata": {
    "dotnet_interactive": {
     "language": "csharp"
    },
    "vscode": {
     "languageId": "dotnet-interactive.csharp"
    }
   },
   "outputs": [],
   "source": [
    "#r \"nuget:xunit\"\n",
    "\n",
    "using Xunit;\n",
    "using Xunit.Sdk;\n",
    "\n",
    "public record class FinglePrint(string CreatedBy, string? ModifiedBy = null);\n",
    "\n",
    "Assert.Null(new FinglePrint(\"Inigo Montoya\").CreatedBy);\n",
    "Assert.Null(new FinglePrint(null!) { CreatedBy = null!}.CreatedBy);\n",
    "\n",
    "FinglePrint finglePrint = new (null!);\n",
    "// Init properties cannot be assigned after construction\n",
    "// finglePrint.CreatedBy = null!;"
   ]
  },
  {
   "cell_type": "code",
   "execution_count": null,
   "metadata": {
    "dotnet_interactive": {
     "language": "csharp"
    },
    "vscode": {
     "languageId": "dotnet-interactive.csharp"
    }
   },
   "outputs": [],
   "source": [
    "using Xunit;\n",
    "using Xunit.Sdk;\n",
    "\n",
    "// REMINDER\n",
    "public record struct FinglePrintData(string CreatedBy, string? ModifiedBy = null);\n",
    "\n",
    "Assert.Null(new FinglePrintData(null!).CreatedBy);\n",
    "Assert.Null(new FinglePrintData(null!) { CreatedBy = null! }.CreatedBy);\n",
    "\n",
    "// Init properties can be assigned after construction\n",
    "FinglePrintData FinglePrint = new (null!);\n",
    "FinglePrint.CreatedBy = null!;\n"
   ]
  },
  {
   "cell_type": "code",
   "execution_count": null,
   "metadata": {
    "dotnet_interactive": {
     "language": "csharp"
    },
    "vscode": {
     "languageId": "dotnet-interactive.csharp"
    }
   },
   "outputs": [],
   "source": [
    "public class FinglePrintTests\n",
    "{\n",
    "    // GUIDELINE     \n",
    "    // 👍 CONSIDER defining record structs with readonly\n",
    "    //        (See Why C# Tuples Get to Break the Guidelines at https://bit.ly/3oHIu59)\n",
    "\n",
    "    // GUIDELINE\n",
    "    // ⛔ AVOID positional parameters when validation of properties is required\n",
    "\n",
    "    // GUIDELINE\n",
    "    // 👍 DO use record structs (rather than a plain struct) when defining a struct\n",
    "    readonly public record struct FinglePrint\n",
    "    {\n",
    "        // GUIDELINE\n",
    "        // DO use a nullable backing field and return it in the getter with a \n",
    "        // null-forgiveness operator in a non-nullable reference type property\n",
    "        readonly private string? _CreatedBy = null;\n",
    "        public string CreatedBy\n",
    "        {\n",
    "            get { return _CreatedBy!; }\n",
    "            // GUIDELINE\n",
    "            // DO check for null in the setter of a non-nullable property\n",
    "            init\n",
    "            {\n",
    "                // GUIDELINE\n",
    "                // CONSIDER using System.ArgumentNullException.ThrowIfNull()\n",
    "                //      to validate non-nullable parameters.\n",
    "\n",
    "                // ArgumentNullException.ThrowIfNull(value) less\n",
    "                // efficient for null, empty, or whitespace validation.\n",
    "                Guard.ThrowIfNullEmptyOrWhitespace(value);\n",
    "                _CreatedBy = value;\n",
    "            }\n",
    "        }\n",
    "\n",
    "        public string? ModifiedBy { get; init; } = null;\n",
    "\n",
    "        public FinglePrint(string createdBy, string? modifiedBy = null)\n",
    "        {\n",
    "            CreatedBy = createdBy;\n",
    "            ModifiedBy = modifiedBy;\n",
    "        }\n",
    "\n",
    "        // GUIDELINE\n",
    "        // ⚖ DO declare struct methods as readonly\n",
    "        readonly public override string ToString() =>\n",
    "            ModifiedBy is null ? $\"Created by { CreatedBy }.\" :\n",
    "                $\"Created by { CreatedBy }. and modified by { ModifiedBy }\";\n",
    "    }\n",
    "\n",
    "    [Fact]\n",
    "    public void Create()\n",
    "    {\n",
    "        // GUIDELINE\n",
    "        // ⚖ DO favor target type new over var when invoking constructors\n",
    "        FinglePrint _ = new(\"Inygo\");\n",
    "    }\n",
    "\n",
    "    private static FinglePrint CreateFinglePrint(\n",
    "            string createdBy = \"Inygo\",\n",
    "            string? modifiedBy = \"Humperdink\"\n",
    "        ) => new(createdBy)\n",
    "        {\n",
    "            ModifiedBy = modifiedBy\n",
    "        };\n",
    "\n",
    "    [Fact]\n",
    "    public void UpdateProperties()\n",
    "    {\n",
    "        FinglePrint? finglePrint = CreateFinglePrint();\n",
    "        //finglePrint.CreatedBy = \"Kevin\";\n",
    "        //finglePrint.ModifiedBy = \"Humperdink\";\n",
    "        \n",
    "        Assert.NotNull(finglePrint.Value.CreatedBy);\n",
    "    }\n",
    "\n",
    "    [Fact]\n",
    "    public void CloneRecord()\n",
    "    {\n",
    "        FinglePrint finglePrint = CreateFinglePrint();\n",
    "\n",
    "        FinglePrint clone = finglePrint with { ModifiedBy = \"Buttercup\" };\n",
    "\n",
    "        Assert.Equal(\"Buttercup\", clone.ModifiedBy);\n",
    "    }\n",
    "}"
   ]
  }
 ],
 "metadata": {
  "kernelspec": {
   "display_name": ".NET (C#)",
   "language": "C#",
   "name": ".net-csharp"
  },
  "language_info": {
   "file_extension": ".cs",
   "mimetype": "text/x-csharp",
   "name": "C#",
   "pygments_lexer": "csharp",
   "version": "9.0"
  },
  "orig_nbformat": 4
 },
 "nbformat": 4,
 "nbformat_minor": 2
}
