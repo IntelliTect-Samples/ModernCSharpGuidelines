{
 "cells": [
  {
   "cell_type": "code",
   "execution_count": null,
   "metadata": {
    "dotnet_interactive": {
     "language": "csharp"
    },
    "vscode": {
     "languageId": "dotnet-interactive.csharp"
    }
   },
   "outputs": [
    {
     "data": {
      "text/html": [
       "<div><div></div><div></div><div><strong>Installed Packages</strong><ul><li><span>xunit, 2.4.1</span></li></ul></div></div>"
      ]
     },
     "metadata": {},
     "output_type": "display_data"
    }
   ],
   "source": [
    "#r \"nuget:xunit\"\n",
    "\n",
    "using Xunit;\n",
    "using Xunit.Sdk;"
   ]
  },
  {
   "cell_type": "code",
   "execution_count": null,
   "metadata": {
    "dotnet_interactive": {
     "language": "csharp"
    },
    "vscode": {
     "languageId": "dotnet-interactive.csharp"
    }
   },
   "outputs": [],
   "source": [
    "using Microsoft.DotNet.Interactive.Formatting;\n",
    "using static Microsoft.DotNet.Interactive.Formatting.PocketViewTags;\n",
    "    \n",
    "Formatter.ResetToDefault();\n",
    "Formatter.Register<Xunit.Sdk.TrueException>((item, writer) => \n",
    "{\n",
    "        writer.Write(\n",
    "            $\"<p style=\\\"color:red\\\">🛑Blah: {item.Message}</color>\");\n",
    "}, mimeType: \"text/html\");\n"
   ]
  },
  {
   "cell_type": "code",
   "execution_count": null,
   "metadata": {
    "dotnet_interactive": {
     "language": "csharp"
    },
    "vscode": {
     "languageId": "dotnet-interactive.csharp"
    }
   },
   "outputs": [
    {
     "name": "stdout",
     "output_type": "stream",
     "text": [
      "<H1>Testw<H1>\r\n"
     ]
    },
    {
     "data": {
      "text/html": [
       "<p style=\"color:red\">🛑Blah: Assert.True() Failure\r\n",
       "Expected: True\r\n",
       "Actual:   False</color>"
      ]
     },
     "metadata": {},
     "output_type": "display_data"
    }
   ],
   "source": [
    "//#r \"xunit.runner.visualstudio\"\n",
    "TrueException text;\n",
    "try{\n",
    "Assert.True(false);\n",
    "}\n",
    "catch(TrueException e)\n",
    "{\n",
    "    text = e;\n",
    "}\n",
    "Assert.True(true);\n",
    "Console.WriteLine(\"<H1>Testw<H1>\");\n",
    "text"
   ]
  }
 ],
 "metadata": {
  "kernelspec": {
   "display_name": ".NET (C#)",
   "language": "C#",
   "name": ".net-csharp"
  },
  "language_info": {
   "file_extension": ".cs",
   "mimetype": "text/x-csharp",
   "name": "C#",
   "pygments_lexer": "csharp",
   "version": "9.0"
  },
  "orig_nbformat": 4
 },
 "nbformat": 4,
 "nbformat_minor": 2
}
